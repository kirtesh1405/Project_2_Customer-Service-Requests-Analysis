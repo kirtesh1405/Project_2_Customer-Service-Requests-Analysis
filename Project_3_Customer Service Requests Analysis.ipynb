{
 "cells": [
  {
   "cell_type": "markdown",
   "id": "cfc66740",
   "metadata": {},
   "source": [
    "# Project 3 - Customer Service Requests Analysis"
   ]
  },
  {
   "cell_type": "markdown",
   "id": "d1e6dfbe",
   "metadata": {},
   "source": [
    "<b>DESCRIPTION\n",
    "\n",
    "<b>Background of Problem Statement :\n",
    "\n",
    "NYC 311's mission is to provide the public with quick and easy access to all New York City government services and information while offering the best customer service. Each day, NYC311 receives thousands of requests related to several hundred types of non-emergency services, including noise complaints, plumbing issues, and illegally parked cars. These requests are received by NYC311 and forwarded to the relevant agencies such as the police, buildings, or transportation. The agency responds to the request, addresses it, and then closes it.\n",
    "\n",
    "<b>Problem Objective :\n",
    "\n",
    "Perform a service request data analysis of New York City 311 calls. You will focus on the data wrangling techniques to understand the pattern in the data and also visualize the major complaint types.\n",
    "Domain: Customer Service\n",
    "\n",
    "<b>Analysis Tasks to be performed:\n",
    "\n",
    "(Perform a service request data analysis of New York City 311 calls) \n",
    "\n",
    "1. Import a 311 NYC service request.\n",
    "2. Read or convert the columns ‘Created Date’ and Closed Date’ to datetime datatype and create a new column ‘Request_Closing_Time’ as the time elapsed between request creation and request closing. (Hint: Explore the package/module datetime)\n",
    "3. Provide major insights/patterns that you can offer in a visual format (graphs or tables); at least 4 major conclusions that you can come up with after generic data mining.\n",
    "4. Order the complaint types based on the average ‘Request_Closing_Time’, grouping them for different locations.\n",
    "5. Perform a statistical test for the following:\n",
    "    \n",
    "Please note: For the below statements you need to state the Null and Alternate and then provide a statistical test to accept or reject the Null Hypothesis along with the corresponding ‘p-value’.\n",
    "\n",
    "Whether the average response time across complaint types is similar or not (overall)\n",
    "Are the type of complaint or service requested and location related?\n",
    "    \n",
    "<b>Dataset Description :\n",
    "\n",
    "Unique Key (Plain text) - Unique identifier for the complaints\n",
    "\n",
    "Created Date (Date and Time) - The date and time on which the complaint is raised\n",
    "\n",
    "Closed Date (Date and Time) - The date and time on which the complaint is closed\n",
    "\n",
    "Agency (Plain text) - Agency code\n",
    "\n",
    "Agency Name (Plain text) - Name of the agency\n",
    "\n",
    "Complaint Type (Plain text) - Type of the complaint\n",
    "\n",
    "Descriptor (Plain text) - Complaint type label (Heating - Heat, Traffic Signal Condition - Controller)\n",
    "\n",
    "Location Type (Plain text) - Type of the location (Residential, Restaurant, Bakery, etc)\n",
    "\n",
    "Incident Zip (Plain text) - Zip code for the location\n",
    "\n",
    "Incident Address (Plain text) - Address of the location\n",
    "\n",
    "Street Name (Plain text) - Name of the street\n",
    "\n",
    "Cross Street 1 (Plain text) - Detail of cross street\n",
    "\n",
    "Cross Street 2 (Plain text) - Detail of another cross street\n",
    "\n",
    "Intersection Street 1 (Plain text) - Detail of intersection street if any\n",
    "\n",
    "Intersection Street 2 (Plain text) - Detail of another intersection street if any\n",
    "\n",
    "Address Type (Plain text) - Categorical (Address or Intersection)\n",
    "\n",
    "City (Plain text) - City for the location\n",
    "\n",
    "Landmark (Plain text) - Empty field\n",
    "\n",
    "Facility Type (Plain text) - N/A\n",
    "\n",
    "Status (Plain text) - Categorical (Closed or Pending)\n",
    "\n",
    "Due Date (Date and Time) - Date and time for the pending complaints\n",
    "\n",
    "Resolution Action Updated Date (Date and Time) - Date and time when the resolution was provided\n",
    "\n",
    "Community Board (Plain text) - Categorical field (specifies the community board with its code)\n",
    "\n",
    "Borough (Plain text) - Categorical field (specifies the community board)\n",
    "\n",
    "X Coordinate (State Plane) (Number)\n",
    "\n",
    "Y Coordinate (State Plane) (Number)\n",
    "\n",
    "Park Facility Name (Plain text) - Unspecified\n",
    "\n",
    "Park Borough (Plain text) - Categorical (Unspecified, Queens, Brooklyn etc)\n",
    "\n",
    "School Name (Plain text) - Unspecified\n",
    "\n",
    "School Number (Plain text) - Unspecified\n",
    "\n",
    "School Region (Plain text) - Unspecified\n",
    "\n",
    "School Code (Plain text) - Unspecified\n",
    "\n",
    "School Phone Number (Plain text) - Unspecified\n",
    "\n",
    "School Address (Plain text) - Unspecified\n",
    "\n",
    "School City (Plain text) - Unspecified\n",
    "\n",
    "School State (Plain text) - Unspecified\n",
    "\n",
    "School Zip (Plain text) - Unspecified\n",
    "\n",
    "School Not Found (Plain text) - Empty Field\n",
    "\n",
    "School or Citywide Complaint (Plain text) - Empty Field\n",
    "\n",
    "Vehicle Type (Plain text) - Empty Field\n",
    "\n",
    "Taxi Company Borough (Plain text) - Empty Field\n",
    "\n",
    "Taxi Pick Up Location (Plain text) - Empty Field\n",
    "\n",
    "Bridge Highway Name (Plain text) - Empty Field\n",
    "\n",
    "Bridge Highway Direction (Plain text) - Empty Field\n",
    "\n",
    "Road Ramp (Plain text) - Empty Field\n",
    "\n",
    "Bridge Highway Segment (Plain text) - Empty Field\n",
    "\n",
    "Garage Lot Name (Plain text) - Empty Field\n",
    "\n",
    "Ferry Direction (Plain text) - Empty Field\n",
    "\n",
    "Ferry Terminal Name (Plain text) - Empty Field\n",
    "\n",
    "Latitude (Number) - Latitude of the location\n",
    "\n",
    "Longitude (Number) - Longitude of the location\n",
    "\n",
    "Location (Location) - Coordinates (Latitude, Longitude)\n",
    "    "
   ]
  },
  {
   "cell_type": "code",
   "execution_count": 21,
   "id": "3af06a97",
   "metadata": {},
   "outputs": [],
   "source": [
    "#Importing required libraries\n",
    "import pandas as pd\n",
    "import numpy as np\n",
    "import matplotlib.pyplot as plt\n",
    "%matplotlib inline\n",
    "import seaborn as sns\n",
    "import datetime as dt"
   ]
  },
  {
   "cell_type": "markdown",
   "id": "9187cc30",
   "metadata": {},
   "source": [
    "# 1. Import a 311 NYC service request."
   ]
  },
  {
   "cell_type": "code",
   "execution_count": 3,
   "id": "fa4da310",
   "metadata": {},
   "outputs": [
    {
     "name": "stderr",
     "output_type": "stream",
     "text": [
      "C:\\Users\\indir\\AppData\\Local\\Temp\\ipykernel_8788\\4065109521.py:2: DtypeWarning: Columns (48,49) have mixed types. Specify dtype option on import or set low_memory=False.\n",
      "  dataset = pd.read_csv('311_Service_Requests_from_2010_to_Present.csv')\n"
     ]
    }
   ],
   "source": [
    "#Load dataset from file \"311_Service_Requests_from_2010_to_Present.csv\"\n",
    "dataset = pd.read_csv('311_Service_Requests_from_2010_to_Present.csv')"
   ]
  },
  {
   "cell_type": "code",
   "execution_count": 4,
   "id": "f1a611f6",
   "metadata": {},
   "outputs": [
    {
     "data": {
      "text/plain": [
       "(300698, 53)"
      ]
     },
     "execution_count": 4,
     "metadata": {},
     "output_type": "execute_result"
    }
   ],
   "source": [
    "dataset.shape"
   ]
  },
  {
   "cell_type": "code",
   "execution_count": 5,
   "id": "ac02316f",
   "metadata": {},
   "outputs": [
    {
     "name": "stdout",
     "output_type": "stream",
     "text": [
      "<class 'pandas.core.frame.DataFrame'>\n",
      "RangeIndex: 300698 entries, 0 to 300697\n",
      "Data columns (total 53 columns):\n",
      " #   Column                          Non-Null Count   Dtype  \n",
      "---  ------                          --------------   -----  \n",
      " 0   Unique Key                      300698 non-null  int64  \n",
      " 1   Created Date                    300698 non-null  object \n",
      " 2   Closed Date                     298534 non-null  object \n",
      " 3   Agency                          300698 non-null  object \n",
      " 4   Agency Name                     300698 non-null  object \n",
      " 5   Complaint Type                  300698 non-null  object \n",
      " 6   Descriptor                      294784 non-null  object \n",
      " 7   Location Type                   300567 non-null  object \n",
      " 8   Incident Zip                    298083 non-null  float64\n",
      " 9   Incident Address                256288 non-null  object \n",
      " 10  Street Name                     256288 non-null  object \n",
      " 11  Cross Street 1                  251419 non-null  object \n",
      " 12  Cross Street 2                  250919 non-null  object \n",
      " 13  Intersection Street 1           43858 non-null   object \n",
      " 14  Intersection Street 2           43362 non-null   object \n",
      " 15  Address Type                    297883 non-null  object \n",
      " 16  City                            298084 non-null  object \n",
      " 17  Landmark                        349 non-null     object \n",
      " 18  Facility Type                   298527 non-null  object \n",
      " 19  Status                          300698 non-null  object \n",
      " 20  Due Date                        300695 non-null  object \n",
      " 21  Resolution Description          300698 non-null  object \n",
      " 22  Resolution Action Updated Date  298511 non-null  object \n",
      " 23  Community Board                 300698 non-null  object \n",
      " 24  Borough                         300698 non-null  object \n",
      " 25  X Coordinate (State Plane)      297158 non-null  float64\n",
      " 26  Y Coordinate (State Plane)      297158 non-null  float64\n",
      " 27  Park Facility Name              300698 non-null  object \n",
      " 28  Park Borough                    300698 non-null  object \n",
      " 29  School Name                     300698 non-null  object \n",
      " 30  School Number                   300698 non-null  object \n",
      " 31  School Region                   300697 non-null  object \n",
      " 32  School Code                     300697 non-null  object \n",
      " 33  School Phone Number             300698 non-null  object \n",
      " 34  School Address                  300698 non-null  object \n",
      " 35  School City                     300698 non-null  object \n",
      " 36  School State                    300698 non-null  object \n",
      " 37  School Zip                      300697 non-null  object \n",
      " 38  School Not Found                300698 non-null  object \n",
      " 39  School or Citywide Complaint    0 non-null       float64\n",
      " 40  Vehicle Type                    0 non-null       float64\n",
      " 41  Taxi Company Borough            0 non-null       float64\n",
      " 42  Taxi Pick Up Location           0 non-null       float64\n",
      " 43  Bridge Highway Name             243 non-null     object \n",
      " 44  Bridge Highway Direction        243 non-null     object \n",
      " 45  Road Ramp                       213 non-null     object \n",
      " 46  Bridge Highway Segment          213 non-null     object \n",
      " 47  Garage Lot Name                 0 non-null       float64\n",
      " 48  Ferry Direction                 1 non-null       object \n",
      " 49  Ferry Terminal Name             2 non-null       object \n",
      " 50  Latitude                        297158 non-null  float64\n",
      " 51  Longitude                       297158 non-null  float64\n",
      " 52  Location                        297158 non-null  object \n",
      "dtypes: float64(10), int64(1), object(42)\n",
      "memory usage: 121.6+ MB\n"
     ]
    }
   ],
   "source": [
    "dataset.info()"
   ]
  },
  {
   "cell_type": "code",
   "execution_count": 7,
   "id": "6b732b47",
   "metadata": {},
   "outputs": [
    {
     "data": {
      "text/plain": [
       "Unique Key                             0\n",
       "Created Date                           0\n",
       "Closed Date                         2164\n",
       "Agency                                 0\n",
       "Agency Name                            0\n",
       "Complaint Type                         0\n",
       "Descriptor                          5914\n",
       "Location Type                        131\n",
       "Incident Zip                        2615\n",
       "Incident Address                   44410\n",
       "Street Name                        44410\n",
       "Cross Street 1                     49279\n",
       "Cross Street 2                     49779\n",
       "Intersection Street 1             256840\n",
       "Intersection Street 2             257336\n",
       "Address Type                        2815\n",
       "City                                2614\n",
       "Landmark                          300349\n",
       "Facility Type                       2171\n",
       "Status                                 0\n",
       "Due Date                               3\n",
       "Resolution Description                 0\n",
       "Resolution Action Updated Date      2187\n",
       "Community Board                        0\n",
       "Borough                                0\n",
       "X Coordinate (State Plane)          3540\n",
       "Y Coordinate (State Plane)          3540\n",
       "Park Facility Name                     0\n",
       "Park Borough                           0\n",
       "School Name                            0\n",
       "School Number                          0\n",
       "School Region                          1\n",
       "School Code                            1\n",
       "School Phone Number                    0\n",
       "School Address                         0\n",
       "School City                            0\n",
       "School State                           0\n",
       "School Zip                             1\n",
       "School Not Found                       0\n",
       "School or Citywide Complaint      300698\n",
       "Vehicle Type                      300698\n",
       "Taxi Company Borough              300698\n",
       "Taxi Pick Up Location             300698\n",
       "Bridge Highway Name               300455\n",
       "Bridge Highway Direction          300455\n",
       "Road Ramp                         300485\n",
       "Bridge Highway Segment            300485\n",
       "Garage Lot Name                   300698\n",
       "Ferry Direction                   300697\n",
       "Ferry Terminal Name               300696\n",
       "Latitude                            3540\n",
       "Longitude                           3540\n",
       "Location                            3540\n",
       "dtype: int64"
      ]
     },
     "execution_count": 7,
     "metadata": {},
     "output_type": "execute_result"
    }
   ],
   "source": [
    "#Identify variables with null values\n",
    "dataset.isnull().sum()"
   ]
  },
  {
   "cell_type": "markdown",
   "id": "52a4be3a",
   "metadata": {},
   "source": [
    "# 2.Read or convert the columns ‘Created Date’ and Closed Date’ to datetime datatype and create a new column ‘Request_Closing_Time’ as the time elapsed between request creation and request closing. (Hint: Explore the package/module datetime)"
   ]
  },
  {
   "cell_type": "code",
   "execution_count": 9,
   "id": "d2407714",
   "metadata": {},
   "outputs": [],
   "source": [
    "dataset['Created Date'] = pd.to_datetime(dataset['Created Date'])\n",
    "dataset['Closed Date'] = pd.to_datetime(dataset['Closed Date'])"
   ]
  },
  {
   "cell_type": "code",
   "execution_count": 11,
   "id": "32cc3a61",
   "metadata": {},
   "outputs": [
    {
     "data": {
      "text/plain": [
       "Unique Key                                 int64\n",
       "Created Date                      datetime64[ns]\n",
       "Closed Date                       datetime64[ns]\n",
       "Agency                                    object\n",
       "Agency Name                               object\n",
       "Complaint Type                            object\n",
       "Descriptor                                object\n",
       "Location Type                             object\n",
       "Incident Zip                             float64\n",
       "Incident Address                          object\n",
       "Street Name                               object\n",
       "Cross Street 1                            object\n",
       "Cross Street 2                            object\n",
       "Intersection Street 1                     object\n",
       "Intersection Street 2                     object\n",
       "Address Type                              object\n",
       "City                                      object\n",
       "Landmark                                  object\n",
       "Facility Type                             object\n",
       "Status                                    object\n",
       "Due Date                                  object\n",
       "Resolution Description                    object\n",
       "Resolution Action Updated Date            object\n",
       "Community Board                           object\n",
       "Borough                                   object\n",
       "X Coordinate (State Plane)               float64\n",
       "Y Coordinate (State Plane)               float64\n",
       "Park Facility Name                        object\n",
       "Park Borough                              object\n",
       "School Name                               object\n",
       "School Number                             object\n",
       "School Region                             object\n",
       "School Code                               object\n",
       "School Phone Number                       object\n",
       "School Address                            object\n",
       "School City                               object\n",
       "School State                              object\n",
       "School Zip                                object\n",
       "School Not Found                          object\n",
       "School or Citywide Complaint             float64\n",
       "Vehicle Type                             float64\n",
       "Taxi Company Borough                     float64\n",
       "Taxi Pick Up Location                    float64\n",
       "Bridge Highway Name                       object\n",
       "Bridge Highway Direction                  object\n",
       "Road Ramp                                 object\n",
       "Bridge Highway Segment                    object\n",
       "Garage Lot Name                          float64\n",
       "Ferry Direction                           object\n",
       "Ferry Terminal Name                       object\n",
       "Latitude                                 float64\n",
       "Longitude                                float64\n",
       "Location                                  object\n",
       "dtype: object"
      ]
     },
     "execution_count": 11,
     "metadata": {},
     "output_type": "execute_result"
    }
   ],
   "source": [
    "dataset.dtypes"
   ]
  },
  {
   "cell_type": "code",
   "execution_count": 12,
   "id": "476ad405",
   "metadata": {},
   "outputs": [],
   "source": [
    "#Create a new column ‘Request_Closing_Time’ \n",
    "dataset['Request_Closing_Time'] = dataset['Closed Date'] - dataset['Created Date']"
   ]
  },
  {
   "cell_type": "code",
   "execution_count": 14,
   "id": "3285775b",
   "metadata": {},
   "outputs": [
    {
     "name": "stdout",
     "output_type": "stream",
     "text": [
      "<class 'pandas.core.frame.DataFrame'>\n",
      "RangeIndex: 300698 entries, 0 to 300697\n",
      "Data columns (total 54 columns):\n",
      " #   Column                          Non-Null Count   Dtype          \n",
      "---  ------                          --------------   -----          \n",
      " 0   Unique Key                      300698 non-null  int64          \n",
      " 1   Created Date                    300698 non-null  datetime64[ns] \n",
      " 2   Closed Date                     298534 non-null  datetime64[ns] \n",
      " 3   Agency                          300698 non-null  object         \n",
      " 4   Agency Name                     300698 non-null  object         \n",
      " 5   Complaint Type                  300698 non-null  object         \n",
      " 6   Descriptor                      294784 non-null  object         \n",
      " 7   Location Type                   300567 non-null  object         \n",
      " 8   Incident Zip                    298083 non-null  float64        \n",
      " 9   Incident Address                256288 non-null  object         \n",
      " 10  Street Name                     256288 non-null  object         \n",
      " 11  Cross Street 1                  251419 non-null  object         \n",
      " 12  Cross Street 2                  250919 non-null  object         \n",
      " 13  Intersection Street 1           43858 non-null   object         \n",
      " 14  Intersection Street 2           43362 non-null   object         \n",
      " 15  Address Type                    297883 non-null  object         \n",
      " 16  City                            298084 non-null  object         \n",
      " 17  Landmark                        349 non-null     object         \n",
      " 18  Facility Type                   298527 non-null  object         \n",
      " 19  Status                          300698 non-null  object         \n",
      " 20  Due Date                        300695 non-null  object         \n",
      " 21  Resolution Description          300698 non-null  object         \n",
      " 22  Resolution Action Updated Date  298511 non-null  object         \n",
      " 23  Community Board                 300698 non-null  object         \n",
      " 24  Borough                         300698 non-null  object         \n",
      " 25  X Coordinate (State Plane)      297158 non-null  float64        \n",
      " 26  Y Coordinate (State Plane)      297158 non-null  float64        \n",
      " 27  Park Facility Name              300698 non-null  object         \n",
      " 28  Park Borough                    300698 non-null  object         \n",
      " 29  School Name                     300698 non-null  object         \n",
      " 30  School Number                   300698 non-null  object         \n",
      " 31  School Region                   300697 non-null  object         \n",
      " 32  School Code                     300697 non-null  object         \n",
      " 33  School Phone Number             300698 non-null  object         \n",
      " 34  School Address                  300698 non-null  object         \n",
      " 35  School City                     300698 non-null  object         \n",
      " 36  School State                    300698 non-null  object         \n",
      " 37  School Zip                      300697 non-null  object         \n",
      " 38  School Not Found                300698 non-null  object         \n",
      " 39  School or Citywide Complaint    0 non-null       float64        \n",
      " 40  Vehicle Type                    0 non-null       float64        \n",
      " 41  Taxi Company Borough            0 non-null       float64        \n",
      " 42  Taxi Pick Up Location           0 non-null       float64        \n",
      " 43  Bridge Highway Name             243 non-null     object         \n",
      " 44  Bridge Highway Direction        243 non-null     object         \n",
      " 45  Road Ramp                       213 non-null     object         \n",
      " 46  Bridge Highway Segment          213 non-null     object         \n",
      " 47  Garage Lot Name                 0 non-null       float64        \n",
      " 48  Ferry Direction                 1 non-null       object         \n",
      " 49  Ferry Terminal Name             2 non-null       object         \n",
      " 50  Latitude                        297158 non-null  float64        \n",
      " 51  Longitude                       297158 non-null  float64        \n",
      " 52  Location                        297158 non-null  object         \n",
      " 53  Request_Closing_Time            298534 non-null  timedelta64[ns]\n",
      "dtypes: datetime64[ns](2), float64(10), int64(1), object(40), timedelta64[ns](1)\n",
      "memory usage: 123.9+ MB\n"
     ]
    }
   ],
   "source": [
    "dataset.info()"
   ]
  },
  {
   "cell_type": "markdown",
   "id": "6174ecbf",
   "metadata": {},
   "source": [
    "<b>last column ‘Request_Closing_Time’ created"
   ]
  },
  {
   "cell_type": "markdown",
   "id": "bcb566f7",
   "metadata": {},
   "source": [
    "# 4. Provide major insights/patterns that you can offer in a visual format (graphs or tables); at least 4 major conclusions that you can come up with after generic data mining"
   ]
  },
  {
   "cell_type": "markdown",
   "id": "9f552c35",
   "metadata": {},
   "source": [
    "<b>1. Most frequent Complaints"
   ]
  },
  {
   "cell_type": "code",
   "execution_count": 15,
   "id": "cba1c290",
   "metadata": {},
   "outputs": [
    {
     "data": {
      "text/plain": [
       "<AxesSubplot:title={'center':'Most common Complaints'}>"
      ]
     },
     "execution_count": 15,
     "metadata": {},
     "output_type": "execute_result"
    },
    {
     "data": {
      "image/png": "[encoded data removed]",
      "text/plain": [
       "<Figure size 864x432 with 1 Axes>"
      ]
     },
     "metadata": {
      "needs_background": "light"
     },
     "output_type": "display_data"
    }
   ],
   "source": [
    "(dataset['Complaint Type'].value_counts()).head().plot(kind='bar',\n",
    "                    figsize=(12,6), title = 'Most common Complaints')"
   ]
  },
  {
   "cell_type": "markdown",
   "id": "5fba9963",
   "metadata": {},
   "source": [
    "<b>2. Least frequent Complaints"
   ]
  },
  {
   "cell_type": "code",
   "execution_count": 16,
   "id": "3c779c61",
   "metadata": {},
   "outputs": [
    {
     "data": {
      "text/plain": [
       "<AxesSubplot:title={'center':'Least frequent Complaints'}>"
      ]
     },
     "execution_count": 16,
     "metadata": {},
     "output_type": "execute_result"
    },
    {
     "data": {
      "image/png": "[encoded data removed]",
      "text/plain": [
       "<Figure size 720x432 with 1 Axes>"
      ]
     },
     "metadata": {
      "needs_background": "light"
     },
     "output_type": "display_data"
    }
   ],
   "source": [
    "(dataset['Complaint Type'].value_counts()).tail().plot(kind='bar',\n",
    "                    figsize=(10,6), title = 'Least frequent Complaints')"
   ]
  },
  {
   "cell_type": "markdown",
   "id": "a54d222e",
   "metadata": {},
   "source": [
    "<b>3. service requests status"
   ]
  },
  {
   "cell_type": "code",
   "execution_count": 17,
   "id": "05452a9f",
   "metadata": {},
   "outputs": [
    {
     "data": {
      "image/png": "[encoded data removed]",
      "text/plain": [
       "<Figure size 504x504 with 1 Axes>"
      ]
     },
     "metadata": {
      "needs_background": "light"
     },
     "output_type": "display_data"
    }
   ],
   "source": [
    "dataset['Status'].value_counts().plot(kind='bar',alpha=0.6,figsize=(7,7))\n",
    "plt.show()"
   ]
  },
  {
   "cell_type": "markdown",
   "id": "ac49f19e",
   "metadata": {},
   "source": [
    "We can observe that majority of the service requests status is closed and a small fraction of requests are \"Open\", \"Assigned\" or under \"Draft\""
   ]
  },
  {
   "cell_type": "markdown",
   "id": "b44e26bc",
   "metadata": {},
   "source": [
    "<b>4. Top Complaints"
   ]
  },
  {
   "cell_type": "code",
   "execution_count": 18,
   "id": "cc605c80",
   "metadata": {},
   "outputs": [
    {
     "data": {
      "image/png": "[encoded data removed]",
      "text/plain": [
       "<Figure size 504x504 with 1 Axes>"
      ]
     },
     "metadata": {
      "needs_background": "light"
     },
     "output_type": "display_data"
    }
   ],
   "source": [
    "dataset['Complaint Type'].value_counts().plot(kind='bar',alpha=0.6,figsize=(7,7))\n",
    "plt.show()"
   ]
  },
  {
   "cell_type": "code",
   "execution_count": 20,
   "id": "0a9fa77c",
   "metadata": {},
   "outputs": [
    {
     "data": {
      "text/plain": [
       "<AxesSubplot:title={'center':'Top 5 Complaints'}>"
      ]
     },
     "execution_count": 20,
     "metadata": {},
     "output_type": "execute_result"
    },
    {
     "data": {
      "image/png": "[encoded data removed]",
      "text/plain": [
       "<Figure size 720x432 with 1 Axes>"
      ]
     },
     "metadata": {
      "needs_background": "light"
     },
     "output_type": "display_data"
    }
   ],
   "source": [
    "(dataset['Complaint Type'].value_counts()).head(5).plot(kind='bar',\n",
    "                    figsize=(10,6), title = 'Top 5 Complaints')"
   ]
  },
  {
   "cell_type": "markdown",
   "id": "28100f6d",
   "metadata": {},
   "source": [
    "the top 5 complaint's are  \"Blocked Driveway\" or \"Illegal Parking\" or \"Noise - Street/Sidewalk\" Noise commercial and Derelict Vehicle"
   ]
  },
  {
   "cell_type": "markdown",
   "id": "9a0f1d2d",
   "metadata": {},
   "source": [
    "<b>5. Request Date vs Frequency"
   ]
  },
  {
   "cell_type": "code",
   "execution_count": 23,
   "id": "01c5b3bc",
   "metadata": {},
   "outputs": [],
   "source": [
    "daily_dates = pd.DataFrame(dataset['Created Date'].dt.date).reset_index()"
   ]
  },
  {
   "cell_type": "code",
   "execution_count": 24,
   "id": "1f5bfa13",
   "metadata": {},
   "outputs": [],
   "source": [
    "daily_dates = daily_dates.groupby(['Created Date']).count().reset_index()"
   ]
  },
  {
   "cell_type": "code",
   "execution_count": 35,
   "id": "4bc21c6d",
   "metadata": {},
   "outputs": [
    {
     "data": {
      "image/png": "[encoded data removed]",
      "text/plain": [
       "<Figure size 1080x360 with 1 Axes>"
      ]
     },
     "metadata": {
      "needs_background": "light"
     },
     "output_type": "display_data"
    }
   ],
   "source": [
    "plt.plot(daily_dates['Created Date'], daily_dates['index'])\n",
    "plt.rcParams['figure.figsize'] = [15,15]\n",
    "plt.title('Frequency of Daily service requests')\n",
    "plt.xlabel('Date')\n",
    "plt.ylabel('Requests')\n",
    "plt.show()"
   ]
  },
  {
   "cell_type": "markdown",
   "id": "c031f080",
   "metadata": {},
   "source": [
    "# 4.Order the complaint types based on the average ‘Request_Closing_Time’, grouping them for different locations."
   ]
  },
  {
   "cell_type": "code",
   "execution_count": 36,
   "id": "86001f82",
   "metadata": {},
   "outputs": [
    {
     "data": {
      "text/html": [
       "<div>\n",
       "<style scoped>\n",
       "    .dataframe tbody tr th:only-of-type {\n",
       "        vertical-align: middle;\n",
       "    }\n",
       "\n",
       "    .dataframe tbody tr th {\n",
       "        vertical-align: top;\n",
       "    }\n",
       "\n",
       "    .dataframe thead th {\n",
       "        text-align: right;\n",
       "    }\n",
       "</style>\n",
       "<table border=\"1\" class=\"dataframe\">\n",
       "  <thead>\n",
       "    <tr style=\"text-align: right;\">\n",
       "      <th></th>\n",
       "      <th></th>\n",
       "      <th>Unique Key</th>\n",
       "      <th>Incident Zip</th>\n",
       "      <th>X Coordinate (State Plane)</th>\n",
       "      <th>Y Coordinate (State Plane)</th>\n",
       "      <th>School or Citywide Complaint</th>\n",
       "      <th>Vehicle Type</th>\n",
       "      <th>Taxi Company Borough</th>\n",
       "      <th>Taxi Pick Up Location</th>\n",
       "      <th>Garage Lot Name</th>\n",
       "      <th>Latitude</th>\n",
       "      <th>Longitude</th>\n",
       "    </tr>\n",
       "    <tr>\n",
       "      <th>Location Type</th>\n",
       "      <th>Complaint Type</th>\n",
       "      <th></th>\n",
       "      <th></th>\n",
       "      <th></th>\n",
       "      <th></th>\n",
       "      <th></th>\n",
       "      <th></th>\n",
       "      <th></th>\n",
       "      <th></th>\n",
       "      <th></th>\n",
       "      <th></th>\n",
       "      <th></th>\n",
       "    </tr>\n",
       "  </thead>\n",
       "  <tbody>\n",
       "    <tr>\n",
       "      <th>Bridge</th>\n",
       "      <th>Homeless Encampment</th>\n",
       "      <td>3.166390e+07</td>\n",
       "      <td>11215.000000</td>\n",
       "      <td>9.950490e+05</td>\n",
       "      <td>209136.500000</td>\n",
       "      <td>NaN</td>\n",
       "      <td>NaN</td>\n",
       "      <td>NaN</td>\n",
       "      <td>NaN</td>\n",
       "      <td>NaN</td>\n",
       "      <td>40.740698</td>\n",
       "      <td>-73.961002</td>\n",
       "    </tr>\n",
       "    <tr>\n",
       "      <th rowspan=\"3\" valign=\"top\">Club/Bar/Restaurant</th>\n",
       "      <th>Drinking</th>\n",
       "      <td>3.130468e+07</td>\n",
       "      <td>10751.180822</td>\n",
       "      <td>1.005164e+06</td>\n",
       "      <td>205933.213699</td>\n",
       "      <td>NaN</td>\n",
       "      <td>NaN</td>\n",
       "      <td>NaN</td>\n",
       "      <td>NaN</td>\n",
       "      <td>NaN</td>\n",
       "      <td>40.731861</td>\n",
       "      <td>-73.924508</td>\n",
       "    </tr>\n",
       "    <tr>\n",
       "      <th>Noise - Commercial</th>\n",
       "      <td>3.130242e+07</td>\n",
       "      <td>10667.501069</td>\n",
       "      <td>9.993782e+05</td>\n",
       "      <td>206549.608541</td>\n",
       "      <td>NaN</td>\n",
       "      <td>NaN</td>\n",
       "      <td>NaN</td>\n",
       "      <td>NaN</td>\n",
       "      <td>NaN</td>\n",
       "      <td>40.733577</td>\n",
       "      <td>-73.945397</td>\n",
       "    </tr>\n",
       "    <tr>\n",
       "      <th>Urinating in Public</th>\n",
       "      <td>3.140580e+07</td>\n",
       "      <td>10986.523810</td>\n",
       "      <td>1.019296e+06</td>\n",
       "      <td>207099.523810</td>\n",
       "      <td>NaN</td>\n",
       "      <td>NaN</td>\n",
       "      <td>NaN</td>\n",
       "      <td>NaN</td>\n",
       "      <td>NaN</td>\n",
       "      <td>40.735017</td>\n",
       "      <td>-73.873563</td>\n",
       "    </tr>\n",
       "    <tr>\n",
       "      <th>Commercial</th>\n",
       "      <th>Animal Abuse</th>\n",
       "      <td>3.147136e+07</td>\n",
       "      <td>10466.580645</td>\n",
       "      <td>1.001685e+06</td>\n",
       "      <td>214065.177419</td>\n",
       "      <td>NaN</td>\n",
       "      <td>NaN</td>\n",
       "      <td>NaN</td>\n",
       "      <td>NaN</td>\n",
       "      <td>NaN</td>\n",
       "      <td>40.754197</td>\n",
       "      <td>-73.937062</td>\n",
       "    </tr>\n",
       "    <tr>\n",
       "      <th>...</th>\n",
       "      <th>...</th>\n",
       "      <td>...</td>\n",
       "      <td>...</td>\n",
       "      <td>...</td>\n",
       "      <td>...</td>\n",
       "      <td>...</td>\n",
       "      <td>...</td>\n",
       "      <td>...</td>\n",
       "      <td>...</td>\n",
       "      <td>...</td>\n",
       "      <td>...</td>\n",
       "      <td>...</td>\n",
       "    </tr>\n",
       "    <tr>\n",
       "      <th>Street/Sidewalk</th>\n",
       "      <th>Vending</th>\n",
       "      <td>3.122120e+07</td>\n",
       "      <td>10378.841571</td>\n",
       "      <td>9.959977e+05</td>\n",
       "      <td>212278.982225</td>\n",
       "      <td>NaN</td>\n",
       "      <td>NaN</td>\n",
       "      <td>NaN</td>\n",
       "      <td>NaN</td>\n",
       "      <td>NaN</td>\n",
       "      <td>40.749311</td>\n",
       "      <td>-73.957584</td>\n",
       "    </tr>\n",
       "    <tr>\n",
       "      <th rowspan=\"2\" valign=\"top\">Subway Station</th>\n",
       "      <th>Animal Abuse</th>\n",
       "      <td>3.122958e+07</td>\n",
       "      <td>10425.636364</td>\n",
       "      <td>9.972389e+05</td>\n",
       "      <td>210457.863636</td>\n",
       "      <td>NaN</td>\n",
       "      <td>NaN</td>\n",
       "      <td>NaN</td>\n",
       "      <td>NaN</td>\n",
       "      <td>NaN</td>\n",
       "      <td>40.744313</td>\n",
       "      <td>-73.953110</td>\n",
       "    </tr>\n",
       "    <tr>\n",
       "      <th>Urinating in Public</th>\n",
       "      <td>3.144697e+07</td>\n",
       "      <td>10744.666667</td>\n",
       "      <td>1.002333e+06</td>\n",
       "      <td>209423.166667</td>\n",
       "      <td>NaN</td>\n",
       "      <td>NaN</td>\n",
       "      <td>NaN</td>\n",
       "      <td>NaN</td>\n",
       "      <td>NaN</td>\n",
       "      <td>40.741460</td>\n",
       "      <td>-73.934753</td>\n",
       "    </tr>\n",
       "    <tr>\n",
       "      <th>Terminal</th>\n",
       "      <th>Ferry Complaint</th>\n",
       "      <td>3.122788e+07</td>\n",
       "      <td>NaN</td>\n",
       "      <td>NaN</td>\n",
       "      <td>NaN</td>\n",
       "      <td>NaN</td>\n",
       "      <td>NaN</td>\n",
       "      <td>NaN</td>\n",
       "      <td>NaN</td>\n",
       "      <td>NaN</td>\n",
       "      <td>NaN</td>\n",
       "      <td>NaN</td>\n",
       "    </tr>\n",
       "    <tr>\n",
       "      <th>Vacant Lot</th>\n",
       "      <th>Derelict Vehicle</th>\n",
       "      <td>3.144758e+07</td>\n",
       "      <td>11024.051948</td>\n",
       "      <td>1.008465e+06</td>\n",
       "      <td>195801.129870</td>\n",
       "      <td>NaN</td>\n",
       "      <td>NaN</td>\n",
       "      <td>NaN</td>\n",
       "      <td>NaN</td>\n",
       "      <td>NaN</td>\n",
       "      <td>40.704022</td>\n",
       "      <td>-73.912629</td>\n",
       "    </tr>\n",
       "  </tbody>\n",
       "</table>\n",
       "<p>71 rows × 11 columns</p>\n",
       "</div>"
      ],
      "text/plain": [
       "                                           Unique Key  Incident Zip  \\\n",
       "Location Type       Complaint Type                                    \n",
       "Bridge              Homeless Encampment  3.166390e+07  11215.000000   \n",
       "Club/Bar/Restaurant Drinking             3.130468e+07  10751.180822   \n",
       "                    Noise - Commercial   3.130242e+07  10667.501069   \n",
       "                    Urinating in Public  3.140580e+07  10986.523810   \n",
       "Commercial          Animal Abuse         3.147136e+07  10466.580645   \n",
       "...                                               ...           ...   \n",
       "Street/Sidewalk     Vending              3.122120e+07  10378.841571   \n",
       "Subway Station      Animal Abuse         3.122958e+07  10425.636364   \n",
       "                    Urinating in Public  3.144697e+07  10744.666667   \n",
       "Terminal            Ferry Complaint      3.122788e+07           NaN   \n",
       "Vacant Lot          Derelict Vehicle     3.144758e+07  11024.051948   \n",
       "\n",
       "                                         X Coordinate (State Plane)  \\\n",
       "Location Type       Complaint Type                                    \n",
       "Bridge              Homeless Encampment                9.950490e+05   \n",
       "Club/Bar/Restaurant Drinking                           1.005164e+06   \n",
       "                    Noise - Commercial                 9.993782e+05   \n",
       "                    Urinating in Public                1.019296e+06   \n",
       "Commercial          Animal Abuse                       1.001685e+06   \n",
       "...                                                             ...   \n",
       "Street/Sidewalk     Vending                            9.959977e+05   \n",
       "Subway Station      Animal Abuse                       9.972389e+05   \n",
       "                    Urinating in Public                1.002333e+06   \n",
       "Terminal            Ferry Complaint                             NaN   \n",
       "Vacant Lot          Derelict Vehicle                   1.008465e+06   \n",
       "\n",
       "                                         Y Coordinate (State Plane)  \\\n",
       "Location Type       Complaint Type                                    \n",
       "Bridge              Homeless Encampment               209136.500000   \n",
       "Club/Bar/Restaurant Drinking                          205933.213699   \n",
       "                    Noise - Commercial                206549.608541   \n",
       "                    Urinating in Public               207099.523810   \n",
       "Commercial          Animal Abuse                      214065.177419   \n",
       "...                                                             ...   \n",
       "Street/Sidewalk     Vending                           212278.982225   \n",
       "Subway Station      Animal Abuse                      210457.863636   \n",
       "                    Urinating in Public               209423.166667   \n",
       "Terminal            Ferry Complaint                             NaN   \n",
       "Vacant Lot          Derelict Vehicle                  195801.129870   \n",
       "\n",
       "                                         School or Citywide Complaint  \\\n",
       "Location Type       Complaint Type                                      \n",
       "Bridge              Homeless Encampment                           NaN   \n",
       "Club/Bar/Restaurant Drinking                                      NaN   \n",
       "                    Noise - Commercial                            NaN   \n",
       "                    Urinating in Public                           NaN   \n",
       "Commercial          Animal Abuse                                  NaN   \n",
       "...                                                               ...   \n",
       "Street/Sidewalk     Vending                                       NaN   \n",
       "Subway Station      Animal Abuse                                  NaN   \n",
       "                    Urinating in Public                           NaN   \n",
       "Terminal            Ferry Complaint                               NaN   \n",
       "Vacant Lot          Derelict Vehicle                              NaN   \n",
       "\n",
       "                                         Vehicle Type  Taxi Company Borough  \\\n",
       "Location Type       Complaint Type                                            \n",
       "Bridge              Homeless Encampment           NaN                   NaN   \n",
       "Club/Bar/Restaurant Drinking                      NaN                   NaN   \n",
       "                    Noise - Commercial            NaN                   NaN   \n",
       "                    Urinating in Public           NaN                   NaN   \n",
       "Commercial          Animal Abuse                  NaN                   NaN   \n",
       "...                                               ...                   ...   \n",
       "Street/Sidewalk     Vending                       NaN                   NaN   \n",
       "Subway Station      Animal Abuse                  NaN                   NaN   \n",
       "                    Urinating in Public           NaN                   NaN   \n",
       "Terminal            Ferry Complaint               NaN                   NaN   \n",
       "Vacant Lot          Derelict Vehicle              NaN                   NaN   \n",
       "\n",
       "                                         Taxi Pick Up Location  \\\n",
       "Location Type       Complaint Type                               \n",
       "Bridge              Homeless Encampment                    NaN   \n",
       "Club/Bar/Restaurant Drinking                               NaN   \n",
       "                    Noise - Commercial                     NaN   \n",
       "                    Urinating in Public                    NaN   \n",
       "Commercial          Animal Abuse                           NaN   \n",
       "...                                                        ...   \n",
       "Street/Sidewalk     Vending                                NaN   \n",
       "Subway Station      Animal Abuse                           NaN   \n",
       "                    Urinating in Public                    NaN   \n",
       "Terminal            Ferry Complaint                        NaN   \n",
       "Vacant Lot          Derelict Vehicle                       NaN   \n",
       "\n",
       "                                         Garage Lot Name   Latitude  Longitude  \n",
       "Location Type       Complaint Type                                              \n",
       "Bridge              Homeless Encampment              NaN  40.740698 -73.961002  \n",
       "Club/Bar/Restaurant Drinking                         NaN  40.731861 -73.924508  \n",
       "                    Noise - Commercial               NaN  40.733577 -73.945397  \n",
       "                    Urinating in Public              NaN  40.735017 -73.873563  \n",
       "Commercial          Animal Abuse                     NaN  40.754197 -73.937062  \n",
       "...                                                  ...        ...        ...  \n",
       "Street/Sidewalk     Vending                          NaN  40.749311 -73.957584  \n",
       "Subway Station      Animal Abuse                     NaN  40.744313 -73.953110  \n",
       "                    Urinating in Public              NaN  40.741460 -73.934753  \n",
       "Terminal            Ferry Complaint                  NaN        NaN        NaN  \n",
       "Vacant Lot          Derelict Vehicle                 NaN  40.704022 -73.912629  \n",
       "\n",
       "[71 rows x 11 columns]"
      ]
     },
     "execution_count": 36,
     "metadata": {},
     "output_type": "execute_result"
    }
   ],
   "source": [
    "grouped = dataset.groupby(['Location Type','Complaint Type']).mean()\n",
    "grouped"
   ]
  },
  {
   "cell_type": "code",
   "execution_count": 38,
   "id": "39c1e629",
   "metadata": {},
   "outputs": [],
   "source": [
    "grouped_top_5 = dataset.groupby(['Complaint Type','Borough'])[['Request_Closing_Time']].mean().unstack()"
   ]
  },
  {
   "cell_type": "code",
   "execution_count": 39,
   "id": "65e04b34",
   "metadata": {},
   "outputs": [
    {
     "data": {
      "text/html": [
       "<div>\n",
       "<style scoped>\n",
       "    .dataframe tbody tr th:only-of-type {\n",
       "        vertical-align: middle;\n",
       "    }\n",
       "\n",
       "    .dataframe tbody tr th {\n",
       "        vertical-align: top;\n",
       "    }\n",
       "\n",
       "    .dataframe thead tr th {\n",
       "        text-align: left;\n",
       "    }\n",
       "\n",
       "    .dataframe thead tr:last-of-type th {\n",
       "        text-align: right;\n",
       "    }\n",
       "</style>\n",
       "<table border=\"1\" class=\"dataframe\">\n",
       "  <thead>\n",
       "    <tr>\n",
       "      <th></th>\n",
       "      <th colspan=\"6\" halign=\"left\">Request_Closing_Time</th>\n",
       "    </tr>\n",
       "    <tr>\n",
       "      <th>Borough</th>\n",
       "      <th>BRONX</th>\n",
       "      <th>BROOKLYN</th>\n",
       "      <th>MANHATTAN</th>\n",
       "      <th>QUEENS</th>\n",
       "      <th>STATEN ISLAND</th>\n",
       "      <th>Unspecified</th>\n",
       "    </tr>\n",
       "    <tr>\n",
       "      <th>Complaint Type</th>\n",
       "      <th></th>\n",
       "      <th></th>\n",
       "      <th></th>\n",
       "      <th></th>\n",
       "      <th></th>\n",
       "      <th></th>\n",
       "    </tr>\n",
       "  </thead>\n",
       "  <tbody>\n",
       "    <tr>\n",
       "      <th>Agency Issues</th>\n",
       "      <td>NaT</td>\n",
       "      <td>NaT</td>\n",
       "      <td>NaT</td>\n",
       "      <td>NaT</td>\n",
       "      <td>NaT</td>\n",
       "      <td>0 days 05:15:37.166666666</td>\n",
       "    </tr>\n",
       "    <tr>\n",
       "      <th>Animal Abuse</th>\n",
       "      <td>0 days 07:20:07.780212014</td>\n",
       "      <td>0 days 04:49:57.021720969</td>\n",
       "      <td>0 days 03:41:06.544918032</td>\n",
       "      <td>0 days 05:24:49.996268656</td>\n",
       "      <td>0 days 04:58:10.220825852</td>\n",
       "      <td>0 days 03:24:35</td>\n",
       "    </tr>\n",
       "    <tr>\n",
       "      <th>Animal in a Park</th>\n",
       "      <td>NaT</td>\n",
       "      <td>NaT</td>\n",
       "      <td>NaT</td>\n",
       "      <td>NaT</td>\n",
       "      <td>NaT</td>\n",
       "      <td>14 days 00:50:05</td>\n",
       "    </tr>\n",
       "    <tr>\n",
       "      <th>Bike/Roller/Skate Chronic</th>\n",
       "      <td>0 days 03:27:32.300000</td>\n",
       "      <td>0 days 05:00:16.936936936</td>\n",
       "      <td>0 days 02:53:32.008888888</td>\n",
       "      <td>0 days 04:46:02</td>\n",
       "      <td>0 days 04:04:38.571428571</td>\n",
       "      <td>0 days 05:51:36</td>\n",
       "    </tr>\n",
       "    <tr>\n",
       "      <th>Blocked Driveway</th>\n",
       "      <td>0 days 06:15:42.350399874</td>\n",
       "      <td>0 days 04:24:38.821295342</td>\n",
       "      <td>0 days 03:33:26.773539352</td>\n",
       "      <td>0 days 04:32:15.391289231</td>\n",
       "      <td>0 days 04:04:16.513071895</td>\n",
       "      <td>0 days 08:27:58.807017543</td>\n",
       "    </tr>\n",
       "    <tr>\n",
       "      <th>Derelict Vehicle</th>\n",
       "      <td>0 days 09:13:39.266905737</td>\n",
       "      <td>0 days 05:56:50.963120293</td>\n",
       "      <td>0 days 04:15:57.627560521</td>\n",
       "      <td>0 days 08:29:34.267760236</td>\n",
       "      <td>0 days 05:02:22.480181200</td>\n",
       "      <td>0 days 14:14:54.369565217</td>\n",
       "    </tr>\n",
       "    <tr>\n",
       "      <th>Disorderly Youth</th>\n",
       "      <td>0 days 04:14:18.269841269</td>\n",
       "      <td>0 days 04:09:01.861111111</td>\n",
       "      <td>0 days 02:24:28.260869565</td>\n",
       "      <td>0 days 03:19:31.864406779</td>\n",
       "      <td>0 days 03:53:36.652173913</td>\n",
       "      <td>NaT</td>\n",
       "    </tr>\n",
       "    <tr>\n",
       "      <th>Drinking</th>\n",
       "      <td>0 days 05:47:36.893617021</td>\n",
       "      <td>0 days 03:32:26.019455252</td>\n",
       "      <td>0 days 03:03:27.918644067</td>\n",
       "      <td>0 days 03:53:52.574229691</td>\n",
       "      <td>0 days 03:29:35.394285714</td>\n",
       "      <td>0 days 06:36:17</td>\n",
       "    </tr>\n",
       "    <tr>\n",
       "      <th>Ferry Complaint</th>\n",
       "      <td>NaT</td>\n",
       "      <td>NaT</td>\n",
       "      <td>NaT</td>\n",
       "      <td>NaT</td>\n",
       "      <td>NaT</td>\n",
       "      <td>NaT</td>\n",
       "    </tr>\n",
       "    <tr>\n",
       "      <th>Graffiti</th>\n",
       "      <td>0 days 08:53:56.555555555</td>\n",
       "      <td>0 days 08:14:35.534883720</td>\n",
       "      <td>0 days 05:03:50.272727272</td>\n",
       "      <td>0 days 06:34:04.243243243</td>\n",
       "      <td>0 days 09:33:44.500000</td>\n",
       "      <td>NaT</td>\n",
       "    </tr>\n",
       "    <tr>\n",
       "      <th>Homeless Encampment</th>\n",
       "      <td>0 days 07:27:11.211382113</td>\n",
       "      <td>0 days 04:41:41.351225204</td>\n",
       "      <td>0 days 03:42:07.955363570</td>\n",
       "      <td>0 days 05:59:53.271551724</td>\n",
       "      <td>0 days 04:58:46.957746478</td>\n",
       "      <td>NaT</td>\n",
       "    </tr>\n",
       "    <tr>\n",
       "      <th>Illegal Fireworks</th>\n",
       "      <td>0 days 05:36:29.500000</td>\n",
       "      <td>0 days 02:20:22.508196721</td>\n",
       "      <td>0 days 01:43:12.888888888</td>\n",
       "      <td>0 days 02:21:31.432432432</td>\n",
       "      <td>0 days 03:44:08.900000</td>\n",
       "      <td>NaT</td>\n",
       "    </tr>\n",
       "    <tr>\n",
       "      <th>Illegal Parking</th>\n",
       "      <td>0 days 06:34:51.034482758</td>\n",
       "      <td>0 days 04:16:20.068387895</td>\n",
       "      <td>0 days 03:23:25.025970813</td>\n",
       "      <td>0 days 04:45:03.023067473</td>\n",
       "      <td>0 days 03:50:45.766475644</td>\n",
       "      <td>0 days 09:40:39.229357798</td>\n",
       "    </tr>\n",
       "    <tr>\n",
       "      <th>Noise - Commercial</th>\n",
       "      <td>0 days 04:41:50.463214138</td>\n",
       "      <td>0 days 02:59:09.930528888</td>\n",
       "      <td>0 days 02:44:03.572557372</td>\n",
       "      <td>0 days 03:46:26.122015478</td>\n",
       "      <td>0 days 03:00:15.008849557</td>\n",
       "      <td>0 days 10:27:19.176470588</td>\n",
       "    </tr>\n",
       "    <tr>\n",
       "      <th>Noise - House of Worship</th>\n",
       "      <td>0 days 04:33:34.367088607</td>\n",
       "      <td>0 days 03:04:11.497058823</td>\n",
       "      <td>0 days 02:18:18.489690721</td>\n",
       "      <td>0 days 03:35:17.421404682</td>\n",
       "      <td>0 days 02:30:12.176470588</td>\n",
       "      <td>NaT</td>\n",
       "    </tr>\n",
       "    <tr>\n",
       "      <th>Noise - Park</th>\n",
       "      <td>0 days 04:41:54.691042047</td>\n",
       "      <td>0 days 03:09:01.912540192</td>\n",
       "      <td>0 days 02:56:41.607438016</td>\n",
       "      <td>0 days 03:49:08.095911949</td>\n",
       "      <td>0 days 02:56:00.910447761</td>\n",
       "      <td>0 days 08:35:07.571428571</td>\n",
       "    </tr>\n",
       "    <tr>\n",
       "      <th>Noise - Street/Sidewalk</th>\n",
       "      <td>0 days 05:13:35.976825289</td>\n",
       "      <td>0 days 03:17:44.999625552</td>\n",
       "      <td>0 days 02:44:08.425741128</td>\n",
       "      <td>0 days 03:37:29.652598139</td>\n",
       "      <td>0 days 02:58:03.328029375</td>\n",
       "      <td>0 days 08:26:05.194029850</td>\n",
       "    </tr>\n",
       "    <tr>\n",
       "      <th>Noise - Vehicle</th>\n",
       "      <td>0 days 05:33:38.854534746</td>\n",
       "      <td>0 days 03:17:00.395479134</td>\n",
       "      <td>0 days 02:37:18.929613420</td>\n",
       "      <td>0 days 03:42:22.830592734</td>\n",
       "      <td>0 days 03:14:15.525280898</td>\n",
       "      <td>0 days 04:44:28.833333333</td>\n",
       "    </tr>\n",
       "    <tr>\n",
       "      <th>Panhandling</th>\n",
       "      <td>0 days 14:12:49.421052631</td>\n",
       "      <td>0 days 04:18:59.326530612</td>\n",
       "      <td>0 days 03:28:27.958549222</td>\n",
       "      <td>0 days 03:55:21.062500</td>\n",
       "      <td>0 days 04:40:11.916666666</td>\n",
       "      <td>NaT</td>\n",
       "    </tr>\n",
       "    <tr>\n",
       "      <th>Posting Advertisement</th>\n",
       "      <td>0 days 03:27:43.176470588</td>\n",
       "      <td>0 days 03:21:39.422222222</td>\n",
       "      <td>0 days 02:57:19.341463414</td>\n",
       "      <td>0 days 05:09:48.400000</td>\n",
       "      <td>0 days 01:32:31.341747572</td>\n",
       "      <td>NaT</td>\n",
       "    </tr>\n",
       "    <tr>\n",
       "      <th>Squeegee</th>\n",
       "      <td>NaT</td>\n",
       "      <td>NaT</td>\n",
       "      <td>0 days 04:02:44.250000</td>\n",
       "      <td>NaT</td>\n",
       "      <td>NaT</td>\n",
       "      <td>NaT</td>\n",
       "    </tr>\n",
       "    <tr>\n",
       "      <th>Traffic</th>\n",
       "      <td>0 days 04:55:42.565826330</td>\n",
       "      <td>0 days 03:06:13.684162062</td>\n",
       "      <td>0 days 02:39:19.863225806</td>\n",
       "      <td>0 days 04:15:29.833716475</td>\n",
       "      <td>0 days 03:32:42.803030303</td>\n",
       "      <td>NaT</td>\n",
       "    </tr>\n",
       "    <tr>\n",
       "      <th>Urinating in Public</th>\n",
       "      <td>0 days 05:23:24.372549019</td>\n",
       "      <td>0 days 03:53:57.529411764</td>\n",
       "      <td>0 days 02:53:39.330677290</td>\n",
       "      <td>0 days 04:08:50.328571428</td>\n",
       "      <td>0 days 02:28:43</td>\n",
       "      <td>NaT</td>\n",
       "    </tr>\n",
       "    <tr>\n",
       "      <th>Vending</th>\n",
       "      <td>0 days 06:49:32.509234828</td>\n",
       "      <td>0 days 04:31:41.176699029</td>\n",
       "      <td>0 days 03:18:21.972894078</td>\n",
       "      <td>0 days 04:46:02.018867924</td>\n",
       "      <td>0 days 04:16:17.360000</td>\n",
       "      <td>0 days 05:07:02</td>\n",
       "    </tr>\n",
       "  </tbody>\n",
       "</table>\n",
       "</div>"
      ],
      "text/plain": [
       "                               Request_Closing_Time                            \\\n",
       "Borough                                       BRONX                  BROOKLYN   \n",
       "Complaint Type                                                                  \n",
       "Agency Issues                                   NaT                       NaT   \n",
       "Animal Abuse              0 days 07:20:07.780212014 0 days 04:49:57.021720969   \n",
       "Animal in a Park                                NaT                       NaT   \n",
       "Bike/Roller/Skate Chronic    0 days 03:27:32.300000 0 days 05:00:16.936936936   \n",
       "Blocked Driveway          0 days 06:15:42.350399874 0 days 04:24:38.821295342   \n",
       "Derelict Vehicle          0 days 09:13:39.266905737 0 days 05:56:50.963120293   \n",
       "Disorderly Youth          0 days 04:14:18.269841269 0 days 04:09:01.861111111   \n",
       "Drinking                  0 days 05:47:36.893617021 0 days 03:32:26.019455252   \n",
       "Ferry Complaint                                 NaT                       NaT   \n",
       "Graffiti                  0 days 08:53:56.555555555 0 days 08:14:35.534883720   \n",
       "Homeless Encampment       0 days 07:27:11.211382113 0 days 04:41:41.351225204   \n",
       "Illegal Fireworks            0 days 05:36:29.500000 0 days 02:20:22.508196721   \n",
       "Illegal Parking           0 days 06:34:51.034482758 0 days 04:16:20.068387895   \n",
       "Noise - Commercial        0 days 04:41:50.463214138 0 days 02:59:09.930528888   \n",
       "Noise - House of Worship  0 days 04:33:34.367088607 0 days 03:04:11.497058823   \n",
       "Noise - Park              0 days 04:41:54.691042047 0 days 03:09:01.912540192   \n",
       "Noise - Street/Sidewalk   0 days 05:13:35.976825289 0 days 03:17:44.999625552   \n",
       "Noise - Vehicle           0 days 05:33:38.854534746 0 days 03:17:00.395479134   \n",
       "Panhandling               0 days 14:12:49.421052631 0 days 04:18:59.326530612   \n",
       "Posting Advertisement     0 days 03:27:43.176470588 0 days 03:21:39.422222222   \n",
       "Squeegee                                        NaT                       NaT   \n",
       "Traffic                   0 days 04:55:42.565826330 0 days 03:06:13.684162062   \n",
       "Urinating in Public       0 days 05:23:24.372549019 0 days 03:53:57.529411764   \n",
       "Vending                   0 days 06:49:32.509234828 0 days 04:31:41.176699029   \n",
       "\n",
       "                                                                               \\\n",
       "Borough                                   MANHATTAN                    QUEENS   \n",
       "Complaint Type                                                                  \n",
       "Agency Issues                                   NaT                       NaT   \n",
       "Animal Abuse              0 days 03:41:06.544918032 0 days 05:24:49.996268656   \n",
       "Animal in a Park                                NaT                       NaT   \n",
       "Bike/Roller/Skate Chronic 0 days 02:53:32.008888888           0 days 04:46:02   \n",
       "Blocked Driveway          0 days 03:33:26.773539352 0 days 04:32:15.391289231   \n",
       "Derelict Vehicle          0 days 04:15:57.627560521 0 days 08:29:34.267760236   \n",
       "Disorderly Youth          0 days 02:24:28.260869565 0 days 03:19:31.864406779   \n",
       "Drinking                  0 days 03:03:27.918644067 0 days 03:53:52.574229691   \n",
       "Ferry Complaint                                 NaT                       NaT   \n",
       "Graffiti                  0 days 05:03:50.272727272 0 days 06:34:04.243243243   \n",
       "Homeless Encampment       0 days 03:42:07.955363570 0 days 05:59:53.271551724   \n",
       "Illegal Fireworks         0 days 01:43:12.888888888 0 days 02:21:31.432432432   \n",
       "Illegal Parking           0 days 03:23:25.025970813 0 days 04:45:03.023067473   \n",
       "Noise - Commercial        0 days 02:44:03.572557372 0 days 03:46:26.122015478   \n",
       "Noise - House of Worship  0 days 02:18:18.489690721 0 days 03:35:17.421404682   \n",
       "Noise - Park              0 days 02:56:41.607438016 0 days 03:49:08.095911949   \n",
       "Noise - Street/Sidewalk   0 days 02:44:08.425741128 0 days 03:37:29.652598139   \n",
       "Noise - Vehicle           0 days 02:37:18.929613420 0 days 03:42:22.830592734   \n",
       "Panhandling               0 days 03:28:27.958549222    0 days 03:55:21.062500   \n",
       "Posting Advertisement     0 days 02:57:19.341463414    0 days 05:09:48.400000   \n",
       "Squeegee                     0 days 04:02:44.250000                       NaT   \n",
       "Traffic                   0 days 02:39:19.863225806 0 days 04:15:29.833716475   \n",
       "Urinating in Public       0 days 02:53:39.330677290 0 days 04:08:50.328571428   \n",
       "Vending                   0 days 03:18:21.972894078 0 days 04:46:02.018867924   \n",
       "\n",
       "                                                                               \n",
       "Borough                               STATEN ISLAND               Unspecified  \n",
       "Complaint Type                                                                 \n",
       "Agency Issues                                   NaT 0 days 05:15:37.166666666  \n",
       "Animal Abuse              0 days 04:58:10.220825852           0 days 03:24:35  \n",
       "Animal in a Park                                NaT          14 days 00:50:05  \n",
       "Bike/Roller/Skate Chronic 0 days 04:04:38.571428571           0 days 05:51:36  \n",
       "Blocked Driveway          0 days 04:04:16.513071895 0 days 08:27:58.807017543  \n",
       "Derelict Vehicle          0 days 05:02:22.480181200 0 days 14:14:54.369565217  \n",
       "Disorderly Youth          0 days 03:53:36.652173913                       NaT  \n",
       "Drinking                  0 days 03:29:35.394285714           0 days 06:36:17  \n",
       "Ferry Complaint                                 NaT                       NaT  \n",
       "Graffiti                     0 days 09:33:44.500000                       NaT  \n",
       "Homeless Encampment       0 days 04:58:46.957746478                       NaT  \n",
       "Illegal Fireworks            0 days 03:44:08.900000                       NaT  \n",
       "Illegal Parking           0 days 03:50:45.766475644 0 days 09:40:39.229357798  \n",
       "Noise - Commercial        0 days 03:00:15.008849557 0 days 10:27:19.176470588  \n",
       "Noise - House of Worship  0 days 02:30:12.176470588                       NaT  \n",
       "Noise - Park              0 days 02:56:00.910447761 0 days 08:35:07.571428571  \n",
       "Noise - Street/Sidewalk   0 days 02:58:03.328029375 0 days 08:26:05.194029850  \n",
       "Noise - Vehicle           0 days 03:14:15.525280898 0 days 04:44:28.833333333  \n",
       "Panhandling               0 days 04:40:11.916666666                       NaT  \n",
       "Posting Advertisement     0 days 01:32:31.341747572                       NaT  \n",
       "Squeegee                                        NaT                       NaT  \n",
       "Traffic                   0 days 03:32:42.803030303                       NaT  \n",
       "Urinating in Public                 0 days 02:28:43                       NaT  \n",
       "Vending                      0 days 04:16:17.360000           0 days 05:07:02  "
      ]
     },
     "execution_count": 39,
     "metadata": {},
     "output_type": "execute_result"
    }
   ],
   "source": [
    "grouped_top_5"
   ]
  },
  {
   "cell_type": "markdown",
   "id": "823b42f3",
   "metadata": {},
   "source": [
    "# 5. Perform a statistical test for the following"
   ]
  },
  {
   "cell_type": "markdown",
   "id": "a2353bc5",
   "metadata": {},
   "source": [
    "# Hypothesis Testing"
   ]
  },
  {
   "cell_type": "markdown",
   "id": "9eaef195",
   "metadata": {},
   "source": [
    "<b> a.1. Whether the average response time across complaint types is similar or not (overall)"
   ]
  },
  {
   "cell_type": "markdown",
   "id": "fbf5a078",
   "metadata": {},
   "source": [
    "Converting Request_Closing_Time to minutes for more precise results"
   ]
  },
  {
   "cell_type": "code",
   "execution_count": 42,
   "id": "88fea2a9",
   "metadata": {},
   "outputs": [],
   "source": [
    "dataset['Request_Closing_Minutes'] = dataset['Request_Closing_Time'].astype('timedelta64[m]')+1"
   ]
  },
  {
   "cell_type": "code",
   "execution_count": 43,
   "id": "3ea3f22f",
   "metadata": {},
   "outputs": [
    {
     "data": {
      "text/plain": [
       "0     56.0\n",
       "1     87.0\n",
       "2    292.0\n",
       "3    466.0\n",
       "4    208.0\n",
       "Name: Request_Closing_Minutes, dtype: float64"
      ]
     },
     "execution_count": 43,
     "metadata": {},
     "output_type": "execute_result"
    }
   ],
   "source": [
    "dataset['Request_Closing_Minutes'].head()"
   ]
  },
  {
   "cell_type": "code",
   "execution_count": 45,
   "id": "112726e8",
   "metadata": {},
   "outputs": [
    {
     "data": {
      "image/png": "[encoded data removed]",
      "text/plain": [
       "<Figure size 360x360 with 1 Axes>"
      ]
     },
     "metadata": {
      "needs_background": "light"
     },
     "output_type": "display_data"
    }
   ],
   "source": [
    "dataset = dataset[dataset['Complaint Type'].notnull()]\n",
    "original = dataset[dataset['Complaint Type']=='Noise - Street/Sidewalk']['Request_Closing_Minutes']\n",
    "plt.rcParams['figure.figsize'] = [5,5]\n",
    "original.hist(bins=100,range=(0,1250))\n",
    "plt.show()"
   ]
  },
  {
   "cell_type": "markdown",
   "id": "98667aa1",
   "metadata": {},
   "source": [
    "distribution of our Request_Closing_Minutes data for 'Noise - Street/Sidewalk' complaint type."
   ]
  },
  {
   "cell_type": "code",
   "execution_count": 46,
   "id": "f3b8e4c2",
   "metadata": {},
   "outputs": [
    {
     "data": {
      "text/plain": [
       "count    48076.000000\n",
       "mean       207.415509\n",
       "std        326.850832\n",
       "min          3.000000\n",
       "25%         61.000000\n",
       "50%        133.000000\n",
       "75%        259.000000\n",
       "max      35573.000000\n",
       "Name: Request_Closing_Minutes, dtype: float64"
      ]
     },
     "execution_count": 46,
     "metadata": {},
     "output_type": "execute_result"
    }
   ],
   "source": [
    "original.describe()\n"
   ]
  },
  {
   "cell_type": "code",
   "execution_count": 47,
   "id": "24f2904e",
   "metadata": {},
   "outputs": [],
   "source": [
    "data = {}\n",
    "for complaint in dataset['Complaint Type'].unique():\n",
    "  data[complaint] = np.log(dataset[dataset['Complaint Type']==complaint]['Request_Closing_Minutes'])"
   ]
  },
  {
   "cell_type": "code",
   "execution_count": 48,
   "id": "632a20d4",
   "metadata": {},
   "outputs": [
    {
     "data": {
      "image/png": "[encoded data removed]",
      "text/plain": [
       "<Figure size 360x360 with 1 Axes>"
      ]
     },
     "metadata": {
      "needs_background": "light"
     },
     "output_type": "display_data"
    }
   ],
   "source": [
    "data['Noise - Street/Sidewalk'].hist(bins=100)\n",
    "plt.show()"
   ]
  },
  {
   "cell_type": "code",
   "execution_count": 49,
   "id": "3bd3067e",
   "metadata": {},
   "outputs": [
    {
     "name": "stdout",
     "output_type": "stream",
     "text": [
      "Noise - Street/Sidewalk :\t 1.0888107660642072\n",
      "Blocked Driveway :\t 0.9689925833875508\n",
      "Illegal Parking :\t 1.0676265933053861\n",
      "Derelict Vehicle :\t 1.2473713130448374\n",
      "Noise - Commercial :\t 1.0751948896175545\n",
      "Noise - House of Worship :\t 1.1578783566404034\n",
      "Posting Advertisement :\t 1.1940496830014724\n",
      "Noise - Vehicle :\t 1.0640895098463043\n",
      "Animal Abuse :\t 1.035321242912534\n",
      "Vending :\t 1.0987535439761758\n",
      "Traffic :\t 1.1690311702610745\n",
      "Drinking :\t 1.0354238334658077\n",
      "Bike/Roller/Skate Chronic :\t 1.1547492289003027\n",
      "Panhandling :\t 1.0578811759503506\n",
      "Noise - Park :\t 1.1038829059331874\n",
      "Homeless Encampment :\t 1.0212999697423413\n",
      "Urinating in Public :\t 1.0896898895618483\n",
      "Graffiti :\t 1.0581967861803852\n",
      "Disorderly Youth :\t 1.0276748370244453\n",
      "Illegal Fireworks :\t 1.1905406895067956\n",
      "Ferry Complaint :\t nan\n",
      "Agency Issues :\t 0.8285353314860184\n",
      "Squeegee :\t 0.8469384425802964\n",
      "Animal in a Park :\t nan\n"
     ]
    }
   ],
   "source": [
    "for complaint in data.keys():\n",
    "    print(complaint, ':\\t', data[complaint].std())"
   ]
  },
  {
   "cell_type": "markdown",
   "id": "e313dc38",
   "metadata": {},
   "source": [
    "<b>ANOVA Test (Analysis of Variance)\n",
    "as we have to compare the means of more than two groups.\n",
    "\n",
    "<b>Conditions for test:\n",
    "\n",
    "All distributions must follow a normal distributions curve. We have verified this after the log transformation.\n",
    "Standard deviation for all groups must be same. Above output proves that this is true.\n",
    "All samples are drawn independently of each other.\n",
    "\n",
    "<b>Null Hypothesis: Average response time for all the complaints type is similar.\n",
    "\n",
    "Alternate Hypothesis: Average response time for all the complaints type is not similar.\n",
    "\n",
    "<b>if p < alpha(0.05):  Reject Null Hypothesis, Average response time for all the complaints type is not similar.\n",
    "\n",
    "<b>if p > alpha(0.05): Fail to reject Null Hypothesis, Average response time for all the complaints type is similar."
   ]
  },
  {
   "cell_type": "code",
   "execution_count": 51,
   "id": "f7f37df0",
   "metadata": {},
   "outputs": [],
   "source": [
    "from scipy.stats import f_oneway"
   ]
  },
  {
   "cell_type": "code",
   "execution_count": 52,
   "id": "c273834c",
   "metadata": {},
   "outputs": [
    {
     "name": "stdout",
     "output_type": "stream",
     "text": [
      "Statistics=nan, p=nan\n",
      "\n",
      "Result:  Same distributions (fail to reject Null Hypothesis H0)\n"
     ]
    }
   ],
   "source": [
    "stat, p = f_oneway(data['Blocked Driveway'],\n",
    "                   data['Illegal Parking'],\n",
    "                   data['Noise - Street/Sidewalk'],\n",
    "                   data['Noise - Commercial'])\n",
    "\n",
    "print('Statistics=%.3f, p=%.3f\\n' % (stat, p))\n",
    "\n",
    "print(\"Result: \", end=' ')\n",
    "if p < 0.05:\n",
    "     print('Different distributions (reject Null Hypothesis H0)')\n",
    "else:\n",
    "    print('Same distributions (fail to reject Null Hypothesis H0)')"
   ]
  },
  {
   "cell_type": "markdown",
   "id": "c8354d86",
   "metadata": {},
   "source": [
    "<b>b. Are the type of complaint or service requested and location related?"
   ]
  },
  {
   "cell_type": "markdown",
   "id": "aa890ae8",
   "metadata": {},
   "source": [
    "To find the correlation between location and complaint types, we will consider below columns\n",
    "\n",
    "1.Complaint Type\n",
    "\n",
    "2.Borough\n",
    "\n",
    "3.Longitude\n",
    "\n",
    "4.Latitude\n",
    "\n",
    "5.City"
   ]
  },
  {
   "cell_type": "code",
   "execution_count": 54,
   "id": "3afa4919",
   "metadata": {},
   "outputs": [
    {
     "data": {
      "text/plain": [
       "2614"
      ]
     },
     "execution_count": 54,
     "metadata": {},
     "output_type": "execute_result"
    }
   ],
   "source": [
    "dataset['City'].isnull().sum()"
   ]
  },
  {
   "cell_type": "code",
   "execution_count": 55,
   "id": "c9e23d44",
   "metadata": {},
   "outputs": [],
   "source": [
    "dataset = dataset[dataset['City'].notnull()]"
   ]
  },
  {
   "cell_type": "code",
   "execution_count": 56,
   "id": "bca0eda6",
   "metadata": {},
   "outputs": [
    {
     "data": {
      "text/plain": [
       "0"
      ]
     },
     "execution_count": 56,
     "metadata": {},
     "output_type": "execute_result"
    }
   ],
   "source": [
    "dataset['City'].isnull().sum()"
   ]
  },
  {
   "cell_type": "code",
   "execution_count": 57,
   "id": "d04baf31",
   "metadata": {},
   "outputs": [],
   "source": [
    "sample = dataset[['Complaint Type','Borough','Longitude','Latitude','City']]"
   ]
  },
  {
   "cell_type": "code",
   "execution_count": 58,
   "id": "4ecef7a2",
   "metadata": {},
   "outputs": [
    {
     "data": {
      "text/html": [
       "<div>\n",
       "<style scoped>\n",
       "    .dataframe tbody tr th:only-of-type {\n",
       "        vertical-align: middle;\n",
       "    }\n",
       "\n",
       "    .dataframe tbody tr th {\n",
       "        vertical-align: top;\n",
       "    }\n",
       "\n",
       "    .dataframe thead th {\n",
       "        text-align: right;\n",
       "    }\n",
       "</style>\n",
       "<table border=\"1\" class=\"dataframe\">\n",
       "  <thead>\n",
       "    <tr style=\"text-align: right;\">\n",
       "      <th></th>\n",
       "      <th>Complaint Type</th>\n",
       "      <th>Borough</th>\n",
       "      <th>Longitude</th>\n",
       "      <th>Latitude</th>\n",
       "      <th>City</th>\n",
       "    </tr>\n",
       "  </thead>\n",
       "  <tbody>\n",
       "    <tr>\n",
       "      <th>0</th>\n",
       "      <td>Noise - Street/Sidewalk</td>\n",
       "      <td>MANHATTAN</td>\n",
       "      <td>-73.923501</td>\n",
       "      <td>40.865682</td>\n",
       "      <td>NEW YORK</td>\n",
       "    </tr>\n",
       "    <tr>\n",
       "      <th>1</th>\n",
       "      <td>Blocked Driveway</td>\n",
       "      <td>QUEENS</td>\n",
       "      <td>-73.915094</td>\n",
       "      <td>40.775945</td>\n",
       "      <td>ASTORIA</td>\n",
       "    </tr>\n",
       "    <tr>\n",
       "      <th>2</th>\n",
       "      <td>Blocked Driveway</td>\n",
       "      <td>BRONX</td>\n",
       "      <td>-73.888525</td>\n",
       "      <td>40.870325</td>\n",
       "      <td>BRONX</td>\n",
       "    </tr>\n",
       "    <tr>\n",
       "      <th>3</th>\n",
       "      <td>Illegal Parking</td>\n",
       "      <td>BRONX</td>\n",
       "      <td>-73.828379</td>\n",
       "      <td>40.835994</td>\n",
       "      <td>BRONX</td>\n",
       "    </tr>\n",
       "    <tr>\n",
       "      <th>4</th>\n",
       "      <td>Illegal Parking</td>\n",
       "      <td>QUEENS</td>\n",
       "      <td>-73.874170</td>\n",
       "      <td>40.733060</td>\n",
       "      <td>ELMHURST</td>\n",
       "    </tr>\n",
       "    <tr>\n",
       "      <th>...</th>\n",
       "      <td>...</td>\n",
       "      <td>...</td>\n",
       "      <td>...</td>\n",
       "      <td>...</td>\n",
       "      <td>...</td>\n",
       "    </tr>\n",
       "    <tr>\n",
       "      <th>300692</th>\n",
       "      <td>Noise - Commercial</td>\n",
       "      <td>MANHATTAN</td>\n",
       "      <td>-73.991378</td>\n",
       "      <td>40.716053</td>\n",
       "      <td>NEW YORK</td>\n",
       "    </tr>\n",
       "    <tr>\n",
       "      <th>300694</th>\n",
       "      <td>Blocked Driveway</td>\n",
       "      <td>QUEENS</td>\n",
       "      <td>-73.846087</td>\n",
       "      <td>40.694077</td>\n",
       "      <td>RICHMOND HILL</td>\n",
       "    </tr>\n",
       "    <tr>\n",
       "      <th>300695</th>\n",
       "      <td>Noise - Commercial</td>\n",
       "      <td>BROOKLYN</td>\n",
       "      <td>-73.944234</td>\n",
       "      <td>40.699590</td>\n",
       "      <td>BROOKLYN</td>\n",
       "    </tr>\n",
       "    <tr>\n",
       "      <th>300696</th>\n",
       "      <td>Noise - Commercial</td>\n",
       "      <td>BRONX</td>\n",
       "      <td>-73.834587</td>\n",
       "      <td>40.837708</td>\n",
       "      <td>BRONX</td>\n",
       "    </tr>\n",
       "    <tr>\n",
       "      <th>300697</th>\n",
       "      <td>Noise - Commercial</td>\n",
       "      <td>MANHATTAN</td>\n",
       "      <td>-73.985922</td>\n",
       "      <td>40.760583</td>\n",
       "      <td>NEW YORK</td>\n",
       "    </tr>\n",
       "  </tbody>\n",
       "</table>\n",
       "<p>298084 rows × 5 columns</p>\n",
       "</div>"
      ],
      "text/plain": [
       "                 Complaint Type    Borough  Longitude   Latitude  \\\n",
       "0       Noise - Street/Sidewalk  MANHATTAN -73.923501  40.865682   \n",
       "1              Blocked Driveway     QUEENS -73.915094  40.775945   \n",
       "2              Blocked Driveway      BRONX -73.888525  40.870325   \n",
       "3               Illegal Parking      BRONX -73.828379  40.835994   \n",
       "4               Illegal Parking     QUEENS -73.874170  40.733060   \n",
       "...                         ...        ...        ...        ...   \n",
       "300692       Noise - Commercial  MANHATTAN -73.991378  40.716053   \n",
       "300694         Blocked Driveway     QUEENS -73.846087  40.694077   \n",
       "300695       Noise - Commercial   BROOKLYN -73.944234  40.699590   \n",
       "300696       Noise - Commercial      BRONX -73.834587  40.837708   \n",
       "300697       Noise - Commercial  MANHATTAN -73.985922  40.760583   \n",
       "\n",
       "                 City  \n",
       "0            NEW YORK  \n",
       "1             ASTORIA  \n",
       "2               BRONX  \n",
       "3               BRONX  \n",
       "4            ELMHURST  \n",
       "...               ...  \n",
       "300692       NEW YORK  \n",
       "300694  RICHMOND HILL  \n",
       "300695       BROOKLYN  \n",
       "300696          BRONX  \n",
       "300697       NEW YORK  \n",
       "\n",
       "[298084 rows x 5 columns]"
      ]
     },
     "execution_count": 58,
     "metadata": {},
     "output_type": "execute_result"
    }
   ],
   "source": [
    "sample"
   ]
  },
  {
   "cell_type": "code",
   "execution_count": 59,
   "id": "14592c72",
   "metadata": {},
   "outputs": [],
   "source": [
    "from sklearn.preprocessing import LabelEncoder"
   ]
  },
  {
   "cell_type": "code",
   "execution_count": 60,
   "id": "ef194ada",
   "metadata": {},
   "outputs": [
    {
     "name": "stderr",
     "output_type": "stream",
     "text": [
      "C:\\Users\\indir\\AppData\\Local\\Temp\\ipykernel_8788\\1844336843.py:2: SettingWithCopyWarning: \n",
      "A value is trying to be set on a copy of a slice from a DataFrame.\n",
      "Try using .loc[row_indexer,col_indexer] = value instead\n",
      "\n",
      "See the caveats in the documentation: https://pandas.pydata.org/pandas-docs/stable/user_guide/indexing.html#returning-a-view-versus-a-copy\n",
      "  sample['City'] = le.fit_transform(sample['City'])\n",
      "C:\\Users\\indir\\AppData\\Local\\Temp\\ipykernel_8788\\1844336843.py:3: SettingWithCopyWarning: \n",
      "A value is trying to be set on a copy of a slice from a DataFrame.\n",
      "Try using .loc[row_indexer,col_indexer] = value instead\n",
      "\n",
      "See the caveats in the documentation: https://pandas.pydata.org/pandas-docs/stable/user_guide/indexing.html#returning-a-view-versus-a-copy\n",
      "  sample['Complaint Type'] = le.fit_transform(sample['Complaint Type'])\n",
      "C:\\Users\\indir\\AppData\\Local\\Temp\\ipykernel_8788\\1844336843.py:4: SettingWithCopyWarning: \n",
      "A value is trying to be set on a copy of a slice from a DataFrame.\n",
      "Try using .loc[row_indexer,col_indexer] = value instead\n",
      "\n",
      "See the caveats in the documentation: https://pandas.pydata.org/pandas-docs/stable/user_guide/indexing.html#returning-a-view-versus-a-copy\n",
      "  sample['Borough'] = le.fit_transform(sample['Borough'])\n"
     ]
    }
   ],
   "source": [
    "le = LabelEncoder()\n",
    "sample['City'] = le.fit_transform(sample['City'])\n",
    "sample['Complaint Type'] = le.fit_transform(sample['Complaint Type'])\n",
    "sample['Borough'] = le.fit_transform(sample['Borough'])"
   ]
  },
  {
   "cell_type": "code",
   "execution_count": 61,
   "id": "6ca10963",
   "metadata": {},
   "outputs": [
    {
     "data": {
      "text/html": [
       "<div>\n",
       "<style scoped>\n",
       "    .dataframe tbody tr th:only-of-type {\n",
       "        vertical-align: middle;\n",
       "    }\n",
       "\n",
       "    .dataframe tbody tr th {\n",
       "        vertical-align: top;\n",
       "    }\n",
       "\n",
       "    .dataframe thead th {\n",
       "        text-align: right;\n",
       "    }\n",
       "</style>\n",
       "<table border=\"1\" class=\"dataframe\">\n",
       "  <thead>\n",
       "    <tr style=\"text-align: right;\">\n",
       "      <th></th>\n",
       "      <th>Complaint Type</th>\n",
       "      <th>Borough</th>\n",
       "      <th>Longitude</th>\n",
       "      <th>Latitude</th>\n",
       "      <th>City</th>\n",
       "    </tr>\n",
       "  </thead>\n",
       "  <tbody>\n",
       "    <tr>\n",
       "      <th>0</th>\n",
       "      <td>14</td>\n",
       "      <td>2</td>\n",
       "      <td>-73.923501</td>\n",
       "      <td>40.865682</td>\n",
       "      <td>33</td>\n",
       "    </tr>\n",
       "    <tr>\n",
       "      <th>1</th>\n",
       "      <td>3</td>\n",
       "      <td>3</td>\n",
       "      <td>-73.915094</td>\n",
       "      <td>40.775945</td>\n",
       "      <td>1</td>\n",
       "    </tr>\n",
       "    <tr>\n",
       "      <th>2</th>\n",
       "      <td>3</td>\n",
       "      <td>0</td>\n",
       "      <td>-73.888525</td>\n",
       "      <td>40.870325</td>\n",
       "      <td>6</td>\n",
       "    </tr>\n",
       "    <tr>\n",
       "      <th>3</th>\n",
       "      <td>10</td>\n",
       "      <td>0</td>\n",
       "      <td>-73.828379</td>\n",
       "      <td>40.835994</td>\n",
       "      <td>6</td>\n",
       "    </tr>\n",
       "    <tr>\n",
       "      <th>4</th>\n",
       "      <td>10</td>\n",
       "      <td>3</td>\n",
       "      <td>-73.874170</td>\n",
       "      <td>40.733060</td>\n",
       "      <td>13</td>\n",
       "    </tr>\n",
       "    <tr>\n",
       "      <th>...</th>\n",
       "      <td>...</td>\n",
       "      <td>...</td>\n",
       "      <td>...</td>\n",
       "      <td>...</td>\n",
       "      <td>...</td>\n",
       "    </tr>\n",
       "    <tr>\n",
       "      <th>300692</th>\n",
       "      <td>11</td>\n",
       "      <td>2</td>\n",
       "      <td>-73.991378</td>\n",
       "      <td>40.716053</td>\n",
       "      <td>33</td>\n",
       "    </tr>\n",
       "    <tr>\n",
       "      <th>300694</th>\n",
       "      <td>3</td>\n",
       "      <td>3</td>\n",
       "      <td>-73.846087</td>\n",
       "      <td>40.694077</td>\n",
       "      <td>39</td>\n",
       "    </tr>\n",
       "    <tr>\n",
       "      <th>300695</th>\n",
       "      <td>11</td>\n",
       "      <td>1</td>\n",
       "      <td>-73.944234</td>\n",
       "      <td>40.699590</td>\n",
       "      <td>7</td>\n",
       "    </tr>\n",
       "    <tr>\n",
       "      <th>300696</th>\n",
       "      <td>11</td>\n",
       "      <td>0</td>\n",
       "      <td>-73.834587</td>\n",
       "      <td>40.837708</td>\n",
       "      <td>6</td>\n",
       "    </tr>\n",
       "    <tr>\n",
       "      <th>300697</th>\n",
       "      <td>11</td>\n",
       "      <td>2</td>\n",
       "      <td>-73.985922</td>\n",
       "      <td>40.760583</td>\n",
       "      <td>33</td>\n",
       "    </tr>\n",
       "  </tbody>\n",
       "</table>\n",
       "<p>298084 rows × 5 columns</p>\n",
       "</div>"
      ],
      "text/plain": [
       "        Complaint Type  Borough  Longitude   Latitude  City\n",
       "0                   14        2 -73.923501  40.865682    33\n",
       "1                    3        3 -73.915094  40.775945     1\n",
       "2                    3        0 -73.888525  40.870325     6\n",
       "3                   10        0 -73.828379  40.835994     6\n",
       "4                   10        3 -73.874170  40.733060    13\n",
       "...                ...      ...        ...        ...   ...\n",
       "300692              11        2 -73.991378  40.716053    33\n",
       "300694               3        3 -73.846087  40.694077    39\n",
       "300695              11        1 -73.944234  40.699590     7\n",
       "300696              11        0 -73.834587  40.837708     6\n",
       "300697              11        2 -73.985922  40.760583    33\n",
       "\n",
       "[298084 rows x 5 columns]"
      ]
     },
     "execution_count": 61,
     "metadata": {},
     "output_type": "execute_result"
    }
   ],
   "source": [
    "sample"
   ]
  },
  {
   "cell_type": "code",
   "execution_count": 62,
   "id": "15394cf7",
   "metadata": {},
   "outputs": [
    {
     "data": {
      "text/html": [
       "<div>\n",
       "<style scoped>\n",
       "    .dataframe tbody tr th:only-of-type {\n",
       "        vertical-align: middle;\n",
       "    }\n",
       "\n",
       "    .dataframe tbody tr th {\n",
       "        vertical-align: top;\n",
       "    }\n",
       "\n",
       "    .dataframe thead th {\n",
       "        text-align: right;\n",
       "    }\n",
       "</style>\n",
       "<table border=\"1\" class=\"dataframe\">\n",
       "  <thead>\n",
       "    <tr style=\"text-align: right;\">\n",
       "      <th></th>\n",
       "      <th>Complaint Type</th>\n",
       "      <th>Borough</th>\n",
       "      <th>Longitude</th>\n",
       "      <th>Latitude</th>\n",
       "      <th>City</th>\n",
       "    </tr>\n",
       "  </thead>\n",
       "  <tbody>\n",
       "    <tr>\n",
       "      <th>Complaint Type</th>\n",
       "      <td>1.000000</td>\n",
       "      <td>-0.066180</td>\n",
       "      <td>-0.181033</td>\n",
       "      <td>0.152843</td>\n",
       "      <td>0.095040</td>\n",
       "    </tr>\n",
       "    <tr>\n",
       "      <th>Borough</th>\n",
       "      <td>-0.066180</td>\n",
       "      <td>1.000000</td>\n",
       "      <td>0.021316</td>\n",
       "      <td>-0.249499</td>\n",
       "      <td>0.717805</td>\n",
       "    </tr>\n",
       "    <tr>\n",
       "      <th>Longitude</th>\n",
       "      <td>-0.181033</td>\n",
       "      <td>0.021316</td>\n",
       "      <td>1.000000</td>\n",
       "      <td>0.364968</td>\n",
       "      <td>-0.124115</td>\n",
       "    </tr>\n",
       "    <tr>\n",
       "      <th>Latitude</th>\n",
       "      <td>0.152843</td>\n",
       "      <td>-0.249499</td>\n",
       "      <td>0.364968</td>\n",
       "      <td>1.000000</td>\n",
       "      <td>-0.000571</td>\n",
       "    </tr>\n",
       "    <tr>\n",
       "      <th>City</th>\n",
       "      <td>0.095040</td>\n",
       "      <td>0.717805</td>\n",
       "      <td>-0.124115</td>\n",
       "      <td>-0.000571</td>\n",
       "      <td>1.000000</td>\n",
       "    </tr>\n",
       "  </tbody>\n",
       "</table>\n",
       "</div>"
      ],
      "text/plain": [
       "                Complaint Type   Borough  Longitude  Latitude      City\n",
       "Complaint Type        1.000000 -0.066180  -0.181033  0.152843  0.095040\n",
       "Borough              -0.066180  1.000000   0.021316 -0.249499  0.717805\n",
       "Longitude            -0.181033  0.021316   1.000000  0.364968 -0.124115\n",
       "Latitude              0.152843 -0.249499   0.364968  1.000000 -0.000571\n",
       "City                  0.095040  0.717805  -0.124115 -0.000571  1.000000"
      ]
     },
     "execution_count": 62,
     "metadata": {},
     "output_type": "execute_result"
    }
   ],
   "source": [
    "sample.corr(method='pearson')"
   ]
  },
  {
   "cell_type": "markdown",
   "id": "214e0b5f",
   "metadata": {},
   "source": [
    "no realtion found between Location and complaint type"
   ]
  },
  {
   "cell_type": "code",
   "execution_count": null,
   "id": "f76dc8ab",
   "metadata": {},
   "outputs": [],
   "source": []
  }
 ],
 "metadata": {
  "kernelspec": {
   "display_name": "Python 3 (ipykernel)",
   "language": "python",
   "name": "python3"
  },
  "language_info": {
   "codemirror_mode": {
    "name": "ipython",
    "version": 3
   },
   "file_extension": ".py",
   "mimetype": "text/x-python",
   "name": "python",
   "nbconvert_exporter": "python",
   "pygments_lexer": "ipython3",
   "version": "3.9.12"
  }
 },
 "nbformat": 4,
 "nbformat_minor": 5
}
